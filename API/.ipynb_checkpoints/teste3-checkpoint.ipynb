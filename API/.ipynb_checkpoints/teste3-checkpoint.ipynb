{
 "cells": [
  {
   "cell_type": "code",
   "execution_count": 17,
   "metadata": {},
   "outputs": [],
   "source": [
    "\"\"\"Filename: server.py\n",
    "\"\"\"\n",
    "\n",
    "import os\n",
    "import pandas as pd\n",
    "from sklearn.externals import joblib\n",
    "from flask import Flask, jsonify, request\n",
    "import dill as pickle\n",
    "\n",
    "app = Flask(__name__)"
   ]
  },
  {
   "cell_type": "code",
   "execution_count": 18,
   "metadata": {},
   "outputs": [],
   "source": [
    "def pre_processamento(df, estimativas):\n",
    "        \n",
    "    #Resolver nulls\n",
    "    df['Gender'].fillna(estimativas['mode_gender'], inplace=True)\n",
    "    df['Married'].fillna(estimativas['mode_married'], inplace=True)\n",
    "    df['Dependents'].fillna(estimativas['mode_dependents'], inplace=True)\n",
    "    df['Self_Employed'].fillna(estimativas['mode_self_employed'], inplace=True)\n",
    "    df['Credit_History'].fillna(estimativas['mode_credit_history'], inplace=True)\n",
    "    df['LoanAmount'].fillna(estimativas['mode_LoanAmount'], inplace=True)\n",
    "    df['Loan_Amount_Term'].fillna(estimativas['mode_LoanAmountTerm'], inplace=True)\n",
    "    \n",
    "    df['Dependents'] = [str(x) for x in list(df['Dependents'])]\n",
    "    \n",
    "    gender_values = {'Female' : 0, 'Male' : 1} \n",
    "    married_values = {'No' : 0, 'Yes' : 1}\n",
    "    education_values = {'Graduate' : 0, 'Not Graduate' : 1}\n",
    "    employed_values = {'No' : 0, 'Yes' : 1}\n",
    "    property_values = {'Rural' : 0, 'Urban' : 1, 'Semiurban' : 2}\n",
    "    dependent_values = {'3+': 3, '0': 0, '2': 2, '1': 1}\n",
    "    df.replace({'Gender': gender_values, 'Married': married_values, 'Education': education_values, \\\n",
    "                'Self_Employed': employed_values, 'Property_Area': property_values, \\\n",
    "                'Dependents': dependent_values}, inplace=True)\n",
    "        \n",
    "    #Adequação estrutura de df\n",
    "    \n",
    "    df['Gender'] = df['Gender'].astype(int)\n",
    "    df['Married'] = df['Married'].astype(int)\n",
    "    df['CoapplicantIncome'] = df['CoapplicantIncome'].astype(float)\n",
    "    df['Loan_Amount_Term'] = df['Loan_Amount_Term'].astype(float)\n",
    "    df['Credit_History'] = df['Credit_History'].astype(float)\n",
    "        \n",
    "    return(df)"
   ]
  },
  {
   "cell_type": "code",
   "execution_count": null,
   "metadata": {},
   "outputs": [],
   "source": [
    "try:\n",
    "    test_json = request.get_json()\n",
    "    dados = pd.read_json(test_json, orient='records')\n",
    "\n",
    "    #Getting the Loan_IDs separated out\n",
    "    loan_ids = test['Loan_ID']\n",
    "\n",
    "except Exception as e:\n",
    "        raise e"
   ]
  },
  {
   "cell_type": "code",
   "execution_count": 19,
   "metadata": {},
   "outputs": [],
   "source": [
    "#Carregar dados - Converter json\n",
    "\n",
    "dados = pd.read_csv('Requerimento.csv')\n",
    "dados = dados.to_json(orient='records')\n",
    "dados = pd.read_json(dados, orient='records')"
   ]
  },
  {
   "cell_type": "code",
   "execution_count": 20,
   "metadata": {},
   "outputs": [],
   "source": [
    "#Adequações\n",
    "\n",
    "pred_var = ['Gender','Married','Dependents','Education','Self_Employed','ApplicantIncome','CoapplicantIncome',\\\n",
    "            'LoanAmount','Loan_Amount_Term','Credit_History','Property_Area']\n",
    "\n",
    "idd = dados['Loan_ID']\n",
    "dados = dados[pred_var]"
   ]
  },
  {
   "cell_type": "code",
   "execution_count": 21,
   "metadata": {},
   "outputs": [],
   "source": [
    "#Setando...\n",
    "\n",
    "modelagem_classificacao = '../Modelagem/Modelos/modelo_classificao.pk'\n",
    "modelagem_regressao = '../Modelagem/Modelos/modelo_regressao.pk'"
   ]
  },
  {
   "cell_type": "code",
   "execution_count": 22,
   "metadata": {},
   "outputs": [],
   "source": [
    "#else:"
   ]
  },
  {
   "cell_type": "code",
   "execution_count": 23,
   "metadata": {},
   "outputs": [],
   "source": [
    "with open(modelagem_classificacao, 'rb') as f:\n",
    "    modelagem_classificacao = pickle.load(f)\n",
    "with open(modelagem_regressao, 'rb') as f:\n",
    "    modelagem_regressao = pickle.load(f)"
   ]
  },
  {
   "cell_type": "code",
   "execution_count": 24,
   "metadata": {},
   "outputs": [],
   "source": [
    "estimativas = modelagem_classificacao[1]\n",
    "dados = pre_processamento(dados, estimativas)\n",
    "modelo_classificacao = modelagem_classificacao[0]\n",
    "emprestar = modelo_classificacao.predict(dados) \n",
    "\n",
    "dados = dados.drop(['LoanAmount'], 1)\n",
    "quanto = modelagem_regressao.predict(dados)"
   ]
  },
  {
   "cell_type": "code",
   "execution_count": 26,
   "metadata": {},
   "outputs": [],
   "source": [
    "if emprestar==1:\n",
    "    emprestar='Y' \n",
    "else: \n",
    "    emprestar='N'\n",
    "    quanto = 0 "
   ]
  },
  {
   "cell_type": "code",
   "execution_count": 58,
   "metadata": {},
   "outputs": [],
   "source": [
    "results = [idd[0], emprestar, round(quanto[0], 2)]"
   ]
  },
  {
   "cell_type": "code",
   "execution_count": 59,
   "metadata": {},
   "outputs": [],
   "source": [
    "results = pd.DataFrame(results, index = ['ID', 'Emprestar', 'Quantidade (Milhares)']).transpose() "
   ]
  },
  {
   "cell_type": "code",
   "execution_count": 60,
   "metadata": {},
   "outputs": [
    {
     "data": {
      "text/html": [
       "<div>\n",
       "<style scoped>\n",
       "    .dataframe tbody tr th:only-of-type {\n",
       "        vertical-align: middle;\n",
       "    }\n",
       "\n",
       "    .dataframe tbody tr th {\n",
       "        vertical-align: top;\n",
       "    }\n",
       "\n",
       "    .dataframe thead th {\n",
       "        text-align: right;\n",
       "    }\n",
       "</style>\n",
       "<table border=\"1\" class=\"dataframe\">\n",
       "  <thead>\n",
       "    <tr style=\"text-align: right;\">\n",
       "      <th></th>\n",
       "      <th>ID</th>\n",
       "      <th>Emprestar</th>\n",
       "      <th>Quantidade (Milhares)</th>\n",
       "    </tr>\n",
       "  </thead>\n",
       "  <tbody>\n",
       "    <tr>\n",
       "      <th>0</th>\n",
       "      <td>LP001002</td>\n",
       "      <td>Y</td>\n",
       "      <td>141.41</td>\n",
       "    </tr>\n",
       "  </tbody>\n",
       "</table>\n",
       "</div>"
      ],
      "text/plain": [
       "         ID Emprestar Quantidade (Milhares)\n",
       "0  LP001002         Y                141.41"
      ]
     },
     "execution_count": 60,
     "metadata": {},
     "output_type": "execute_result"
    }
   ],
   "source": [
    "results"
   ]
  },
  {
   "cell_type": "code",
   "execution_count": 57,
   "metadata": {},
   "outputs": [
    {
     "data": {
      "text/html": [
       "<div>\n",
       "<style scoped>\n",
       "    .dataframe tbody tr th:only-of-type {\n",
       "        vertical-align: middle;\n",
       "    }\n",
       "\n",
       "    .dataframe tbody tr th {\n",
       "        vertical-align: top;\n",
       "    }\n",
       "\n",
       "    .dataframe thead th {\n",
       "        text-align: right;\n",
       "    }\n",
       "</style>\n",
       "<table border=\"1\" class=\"dataframe\">\n",
       "  <thead>\n",
       "    <tr style=\"text-align: right;\">\n",
       "      <th></th>\n",
       "      <th>ID</th>\n",
       "      <th>Emprestar</th>\n",
       "      <th>Quantidade (Milhares)</th>\n",
       "    </tr>\n",
       "  </thead>\n",
       "  <tbody>\n",
       "    <tr>\n",
       "      <th>0</th>\n",
       "      <td>LP001002</td>\n",
       "      <td>Y</td>\n",
       "      <td>141.41</td>\n",
       "    </tr>\n",
       "  </tbody>\n",
       "</table>\n",
       "</div>"
      ],
      "text/plain": [
       "         ID Emprestar Quantidade (Milhares)\n",
       "0  LP001002         Y                141.41"
      ]
     },
     "execution_count": 57,
     "metadata": {},
     "output_type": "execute_result"
    }
   ],
   "source": [
    "responses = jsonify(predictions=results.to_json(orient=\"records\"))\n",
    "responses.status_code = 200"
   ]
  }
 ],
 "metadata": {
  "kernelspec": {
   "display_name": "Python 2",
   "language": "python",
   "name": "python2"
  },
  "language_info": {
   "codemirror_mode": {
    "name": "ipython",
    "version": 2
   },
   "file_extension": ".py",
   "mimetype": "text/x-python",
   "name": "python",
   "nbconvert_exporter": "python",
   "pygments_lexer": "ipython2",
   "version": "2.7.15+"
  }
 },
 "nbformat": 4,
 "nbformat_minor": 2
}
